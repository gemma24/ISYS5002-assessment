{
  "nbformat": 4,
  "nbformat_minor": 0,
  "metadata": {
    "colab": {
      "name": "Sandbox-assignment.ipynb",
      "provenance": [],
      "authorship_tag": "ABX9TyNxr0ICOkJljboLN73VI97Q",
      "include_colab_link": true
    },
    "kernelspec": {
      "name": "python3",
      "display_name": "Python 3"
    },
    "language_info": {
      "name": "python"
    }
  },
  "cells": [
    {
      "cell_type": "markdown",
      "metadata": {
        "id": "view-in-github",
        "colab_type": "text"
      },
      "source": [
        "<a href=\"https://colab.research.google.com/github/gemma24/ISYS5002-assessment/blob/main/Sandbox_assignment.ipynb\" target=\"_parent\"><img src=\"https://colab.research.google.com/assets/colab-badge.svg\" alt=\"Open In Colab\"/></a>"
      ]
    },
    {
      "cell_type": "markdown",
      "metadata": {
        "id": "PyCnJnXjfUfY"
      },
      "source": [
        "# Client's requirements\n",
        "This notebook able to:\n",
        "* Prompts for a company's stock market ticker symbol\n",
        "* Scrapes the Yahoo finance website to extract info on the key company\n",
        "* Calculate the each executive's expected income tax based on the ATO tax table\n",
        "* Data can be saved as a CSV or SQLite database\n",
        "* Follow PEP8 conventions\n",
        "\n"
      ]
    },
    {
      "cell_type": "markdown",
      "metadata": {
        "id": "V3BRMfQwkWg8"
      },
      "source": [
        "# Problem Solving Methodology\n",
        "In the process of problem-solving, there are five key steps to follow:\n",
        "1. State the problem clearly\n",
        "2. Describe the input and output information\n",
        "3. Work the problem by hand \n",
        "4. Develop an algorithm\n",
        "5. Test solution with a variety of data."
      ]
    }
  ]
}