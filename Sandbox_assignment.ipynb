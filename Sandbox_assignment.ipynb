{
  "nbformat": 4,
  "nbformat_minor": 0,
  "metadata": {
    "colab": {
      "name": "Sandbox-assignment.ipynb",
      "provenance": [],
      "authorship_tag": "ABX9TyOSuwTnNfML+duhhRdnHRWo",
      "include_colab_link": true
    },
    "kernelspec": {
      "name": "python3",
      "display_name": "Python 3"
    },
    "language_info": {
      "name": "python"
    }
  },
  "cells": [
    {
      "cell_type": "markdown",
      "metadata": {
        "id": "view-in-github",
        "colab_type": "text"
      },
      "source": [
        "<a href=\"https://colab.research.google.com/github/gemma24/ISYS5002-assessment/blob/main/Sandbox_assignment.ipynb\" target=\"_parent\"><img src=\"https://colab.research.google.com/assets/colab-badge.svg\" alt=\"Open In Colab\"/></a>"
      ]
    },
    {
      "cell_type": "markdown",
      "metadata": {
        "id": "PyCnJnXjfUfY"
      },
      "source": [
        "# Client's requirements\n",
        "This notebook able to:\n",
        "* Prompts for a company's stock market ticker symbol\n",
        "* Scrapes the Yahoo finance website to extract info on the key company\n",
        "* Calculate the each executive's expected income tax based on the ATO tax table\n",
        "* Data can be saved as a CSV or SQLite database\n",
        "* Follow PEP8 conventions\n",
        "\n"
      ]
    },
    {
      "cell_type": "markdown",
      "metadata": {
        "id": "V3BRMfQwkWg8"
      },
      "source": [
        "# Problem Solving Methodology\n",
        "In the process of problem-solving, there are five key steps to follow:\n",
        "1. State the problem clearly\n",
        "2. Describe the input and output information\n",
        "3. Work the problem by hand \n",
        "4. Develop an algorithm\n",
        "5. Test solution with a variety of data.\n",
        "# Step 1: State the problem \n",
        "* Find out what is ticker symbol\n",
        "* Find the Yahoo finance wbesite and how to scrape?\n",
        "* How to access each executive's information?\n",
        "* How to calculate the each executive's expected income tax?\n",
        "* How to save a data as a CSV and SQlite database\n",
        "\n",
        "\n",
        "\n",
        "\n",
        "\n",
        "\n"
      ]
    },
    {
      "cell_type": "markdown",
      "metadata": {
        "id": "zOauCiyjr9JE"
      },
      "source": [
        "# Step 2: Describe the input and output information\n",
        "## Website \n",
        "\n",
        "[Yahoo Finance](https://au.finance.yahoo.com/)\n",
        "\n",
        "## Inputs\n",
        "\n",
        "* Prompt for a ticker symbol\n",
        "\n",
        "## Processing\n",
        "\n",
        "* Get income from webpage\n",
        "* Calculate Tax (using income)\n",
        "\n",
        "## Outputs\n",
        "\n",
        "* Save to CSV file \n",
        "* Save to SQLIte \n",
        "\n",
        "\n",
        "\n",
        "\n",
        "### Exploring the Website\n",
        "\n",
        "Stock Ticker Symbol:  A stock symbol is a unique series of letters assigned to a security for trading purposes.  From https://www.investopedia.com/terms/s/stocksymbol.asp\n",
        "\n",
        "Ticker can be for any company on the exchange\n",
        "\n",
        "Note: once found page, need to click on the 'Profile' tab.\n",
        "\n",
        "For TGT the profile page is:\n",
        "\n",
        "https://au.finance.yahoo.com/quote/TGT/profile?p=TGT\n",
        "\n",
        "For WOW.AX:\n",
        "\n",
        "https://au.finance.yahoo.com/quote/WOW.AX/profile?p=WOW.AX\n",
        "\n",
        "\n",
        "For COL.AX (Coles Group)\n",
        "\n",
        "https://au.finance.yahoo.com/quote/COL.AX/profile?p=COL.AX\n"
      ]
    },
    {
      "cell_type": "markdown",
      "metadata": {
        "id": "yG68dqDgtNMu"
      },
      "source": [
        ""
      ]
    }
  ]
}