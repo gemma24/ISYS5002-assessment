{
  "nbformat": 4,
  "nbformat_minor": 0,
  "metadata": {
    "colab": {
      "name": "Sandbox-assignment.ipynb",
      "provenance": [],
      "authorship_tag": "ABX9TyOHuX3aCpdGS3lxPtGNcSQ+",
      "include_colab_link": true
    },
    "kernelspec": {
      "name": "python3",
      "display_name": "Python 3"
    },
    "language_info": {
      "name": "python"
    }
  },
  "cells": [
    {
      "cell_type": "markdown",
      "metadata": {
        "id": "view-in-github",
        "colab_type": "text"
      },
      "source": [
        "<a href=\"https://colab.research.google.com/github/gemma24/ISYS5002-assessment/blob/main/Sandbox_assignment.ipynb\" target=\"_parent\"><img src=\"https://colab.research.google.com/assets/colab-badge.svg\" alt=\"Open In Colab\"/></a>"
      ]
    },
    {
      "cell_type": "markdown",
      "metadata": {
        "id": "PyCnJnXjfUfY"
      },
      "source": [
        "# Client's requirements\n",
        "This notebook able to:\n",
        "* Prompts for a company's stock market ticker symbol\n",
        "* Scrapes the Yahoo finance website to extract info on the key company\n",
        "* Calculate the each executive's expected income tax based on the ATO tax table\n",
        "* Data can be saved as a CSV or SQLite database\n",
        "* Follow PEP8 conventions\n",
        "\n"
      ]
    },
    {
      "cell_type": "markdown",
      "metadata": {
        "id": "V3BRMfQwkWg8"
      },
      "source": [
        "# Problem Solving Methodology\n",
        "In the process of problem-solving, there are five key steps to follow:\n",
        "1. State the problem clearly\n",
        "2. Describe the input and output information\n",
        "3. Work the problem by hand \n",
        "4. Develop an algorithm\n",
        "5. Test solution with a variety of data.\n",
        "# Step 1: State the problem \n",
        "* Find out what is ticker symbol\n",
        "* Find the Yahoo finance wbesite and how to scrape?\n",
        "* How to access each executive's information?\n",
        "* How to calculate the each executive's expected income tax?\n",
        "* How to save a data as a CSV and SQlite database\n",
        "\n",
        "\n",
        "\n",
        "\n",
        "\n",
        "\n"
      ]
    },
    {
      "cell_type": "markdown",
      "metadata": {
        "id": "zOauCiyjr9JE"
      },
      "source": [
        "# Step 2: Describe the input and output information\n",
        "## Website \n",
        "\n",
        "[Yahoo Finance](https://au.finance.yahoo.com/)\n",
        "\n",
        "## Inputs\n",
        "\n",
        "* Prompt for a ticker symbol\n",
        "\n",
        "## Processing\n",
        "\n",
        "* Get income from webpage\n",
        "* Calculate Tax (using income)\n",
        "\n",
        "## Outputs\n",
        "\n",
        "* Save to CSV file \n",
        "* Save to SQLIte \n",
        "\n",
        "\n",
        "\n",
        "\n",
        "### Exploring the Website\n",
        "\n",
        "Stock Ticker Symbol:  A stock symbol is a unique series of letters assigned to a security for trading purposes.  From https://www.investopedia.com/terms/s/stocksymbol.asp\n",
        "\n",
        "Ticker can be for any company on the exchange\n",
        "\n",
        "Note: once found page, need to click on the 'Profile' tab.\n",
        "\n",
        "For TGT the profile page is:\n",
        "\n",
        "https://au.finance.yahoo.com/quote/TGT/profile?p=TGT\n",
        "\n",
        "For WOW.AX:\n",
        "\n",
        "https://au.finance.yahoo.com/quote/WOW.AX/profile?p=WOW.AX\n",
        "\n",
        "\n",
        "For COL.AX (Coles Group)\n",
        "\n",
        "https://au.finance.yahoo.com/quote/COL.AX/profile?p=COL.AX\n"
      ]
    },
    {
      "cell_type": "markdown",
      "metadata": {
        "id": "yG68dqDgtNMu"
      },
      "source": [
        ""
      ]
    },
    {
      "cell_type": "markdown",
      "metadata": {
        "id": "8EGtFlOYwLmL"
      },
      "source": [
        "# Step 3: Work the problem by hand\n",
        "# Try to work an example by hand\n",
        "\n",
        "Here is the table from the website for COL.AX \n",
        "https://au.finance.yahoo.com/quote/COL.AX/profile?p=COL.AX&.tsrc=fin-srch\n",
        "\n",
        "```\n",
        "Name\tTitle\tPay\tExercised\tYear born\n",
        "Mr. Steven Cain\tMD, CEO & Director\t3.33M\tN/A\t1965\n",
        "Ms. Leah Weckert\tChief Financial Officer\t1.8M\tN/A\tN/A\n",
        "Mr. Matthew Swindells\tChief Operations Officer\t1.58M\tN/A\tN/A\n",
        "Mr. Greg Davis\tChief Exec. - Commercial & Express\t1.61M\tN/A\tN/A\n",
        "Mr. John Cox\tChief Technology Officer\tN/A\tN/A\tN/A\n",
        "Mark Howell\tGen. Mang. of Investor Relations\tN/A\tN/A\tN/A\n",
        "Mr. David Brewster\tChief Legal Officer\tN/A\tN/A\tN/A\n",
        "Ms. Lisa Ronson\tChief Marketing Officer\tN/A\tN/A\tN/A\n",
        "Ms. Kris Webb\tChief People Officer\tN/A\tN/A\tN/A\n",
        "Mr. Thinus Keeve\tChief Sustainability, Property & Export Officer\tN/A\tN/A\tN/A\n",
        "\n",
        "```\n",
        "\n",
        "Client clarified we only need Name, Title, Pay\n",
        "\n",
        "Let consider one row, and only name title and pay\n",
        "\n",
        "```\n",
        "Name\t              Title\t          Pay\n",
        "Mr. Steven Cain\tMD, CEO & Director\t3.33M\n",
        "```\n",
        "\n",
        "Note, 1st collum is the name, the second is title and thrid is pay.\n",
        "\n",
        "**TODO:  Work out how get each colum/cell in the table**\n",
        "\n",
        "### Want to calculate the tax\n",
        "* Need to get the pay\n",
        "\n",
        "*Note: We did a calculate tax in a earlier lab*\n",
        "\n",
        "See: https://github.com/gemma24/my_first_repo/blob/main/tax_calculation.ipynb\n",
        "\n",
        "\n",
        "\n",
        "```\n",
        "def calculate_tax(income):\n",
        "  ''' \n",
        "  This function will calculate the tax payable based on the ATO\n",
        "  '''\n",
        "  if income<=18200:\n",
        "    tax=0\n",
        "  elif 18200<income<=45000:\n",
        "    tax= 0.19 * (income- 18200)\n",
        "  elif 45001< income<= 120000:\n",
        "    tax=5092+0.32*(income-45000)\n",
        "  elif 120001< income < 180000:\n",
        "    tax= 29467+0.37*(income-120000)\n",
        "  elif 180001<= income:\n",
        "    tax= 51667+0.45*(income-180000)\n",
        "  return tax\n",
        "```\n",
        "\n",
        "\n",
        "\n",
        "I need the dollar amount to calculate the tax.\n",
        "\n",
        "So Pay (or Salray) is 3.33M. Need to extract the 3.33 and multiply is by 1000,000 to give me the dollar amount.  Thne use this dollar amouunt to calculate the tax.\n"
      ]
    },
    {
      "cell_type": "code",
      "metadata": {
        "colab": {
          "base_uri": "https://localhost:8080/"
        },
        "id": "LuoQiEzr1hMZ",
        "outputId": "a71b5679-f20b-40d9-a7a7-4dbfc1b9a6d2"
      },
      "source": [
        "3.33 * 1000000"
      ],
      "execution_count": 1,
      "outputs": [
        {
          "output_type": "execute_result",
          "data": {
            "text/plain": [
              "3330000.0"
            ]
          },
          "metadata": {},
          "execution_count": 1
        }
      ]
    },
    {
      "cell_type": "code",
      "metadata": {
        "id": "ZFNDMN5O1jt4"
      },
      "source": [
        ""
      ],
      "execution_count": null,
      "outputs": []
    }
  ]
}