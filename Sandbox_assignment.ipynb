{
  "nbformat": 4,
  "nbformat_minor": 0,
  "metadata": {
    "colab": {
      "name": "Sandbox-assignment.ipynb",
      "provenance": [],
      "authorship_tag": "ABX9TyNAJxiR59IuX4ajTz/cjKF/",
      "include_colab_link": true
    },
    "kernelspec": {
      "name": "python3",
      "display_name": "Python 3"
    },
    "language_info": {
      "name": "python"
    }
  },
  "cells": [
    {
      "cell_type": "markdown",
      "metadata": {
        "id": "view-in-github",
        "colab_type": "text"
      },
      "source": [
        "<a href=\"https://colab.research.google.com/github/gemma24/ISYS5002-assessment/blob/main/Sandbox_assignment.ipynb\" target=\"_parent\"><img src=\"https://colab.research.google.com/assets/colab-badge.svg\" alt=\"Open In Colab\"/></a>"
      ]
    },
    {
      "cell_type": "markdown",
      "metadata": {
        "id": "iKIsikeL0ykA"
      },
      "source": [
        "# ISYS5002 Assignment\n",
        "### Student name: Gerelmaa Gerelt-od\n",
        "### Student ID: 20801940"
      ]
    },
    {
      "cell_type": "markdown",
      "metadata": {
        "id": "PyCnJnXjfUfY"
      },
      "source": [
        "# Client's requirements\n",
        "This notebook able to:\n",
        "* Prompts for a company's stock market ticker symbol\n",
        "* Scrapes the Yahoo finance website to extract info on the key company\n",
        "* Calculate the each executive's expected income tax based on the ATO tax table\n",
        "* Data can be saved as a CSV or SQLite database\n",
        "* Follow PEP8 conventions\n",
        "\n"
      ]
    },
    {
      "cell_type": "markdown",
      "metadata": {
        "id": "V3BRMfQwkWg8"
      },
      "source": [
        "# Problem Solving Methodology\n",
        "In the process of problem-solving, there are five key steps to follow:\n",
        "1. State the problem clearly\n",
        "2. Describe the input and output information\n",
        "3. Work the problem by hand \n",
        "4. Develop an algorithm\n",
        "5. Test solution with a variety of data.\n",
        "\n",
        "# Step 1: State the problem \n",
        "* Find out what is ticker symbol\n",
        "* Find the Yahoo finance wbesite and how to scrape?\n",
        "* How to access each executive's information?\n",
        "* How to calculate the each executive's expected income tax?\n",
        "* How to save a data as a CSV and SQlite database\n",
        "\n",
        "\n",
        "\n",
        "\n",
        "\n",
        "\n"
      ]
    },
    {
      "cell_type": "markdown",
      "metadata": {
        "id": "zOauCiyjr9JE"
      },
      "source": [
        "# Step 2: Describe the input and output information\n",
        "## Website \n",
        "\n",
        "[Yahoo Finance](https://au.finance.yahoo.com/)\n",
        "\n",
        "## Inputs\n",
        "\n",
        "* Prompt for a ticker symbol\n",
        "\n",
        "## Processing\n",
        "\n",
        "* Get income from webpage\n",
        "* Calculate Tax (using income)\n",
        "\n",
        "## Outputs\n",
        "\n",
        "* Save to CSV file \n",
        "* Save to SQLIte \n",
        "\n",
        "\n",
        "\n",
        "\n",
        "### Exploring the Website\n",
        "\n",
        "Stock Ticker Symbol:  A stock symbol is a unique series of letters assigned to a security for trading purposes.  From https://www.investopedia.com/terms/s/stocksymbol.asp\n",
        "\n",
        "Ticker can be for any company on the exchange\n",
        "\n",
        "Note: once found page, need to click on the 'Profile' tab.\n",
        "\n",
        "For TGT the profile page is:\n",
        "\n",
        "https://au.finance.yahoo.com/quote/TGT/profile?p=TGT\n",
        "\n",
        "For WOW.AX:\n",
        "\n",
        "https://au.finance.yahoo.com/quote/WOW.AX/profile?p=WOW.AX\n",
        "\n",
        "\n",
        "For COL.AX (Coles Group)\n",
        "\n",
        "https://au.finance.yahoo.com/quote/COL.AX/profile?p=COL.AX\n"
      ]
    },
    {
      "cell_type": "markdown",
      "metadata": {
        "id": "yG68dqDgtNMu"
      },
      "source": [
        ""
      ]
    },
    {
      "cell_type": "markdown",
      "metadata": {
        "id": "8EGtFlOYwLmL"
      },
      "source": [
        "# Step 3: Work the problem by hand\n",
        "# Try to work an example by hand\n",
        "\n",
        "Here is the table from the website for COL.AX \n",
        "https://au.finance.yahoo.com/quote/COL.AX/profile?p=COL.AX&.tsrc=fin-srch\n",
        "\n",
        "```\n",
        "Name\tTitle\tPay\tExercised\tYear born\n",
        "Mr. Steven Cain\tMD, CEO & Director\t3.33M\tN/A\t1965\n",
        "Ms. Leah Weckert\tChief Financial Officer\t1.8M\tN/A\tN/A\n",
        "Mr. Matthew Swindells\tChief Operations Officer\t1.58M\tN/A\tN/A\n",
        "Mr. Greg Davis\tChief Exec. - Commercial & Express\t1.61M\tN/A\tN/A\n",
        "Mr. John Cox\tChief Technology Officer\tN/A\tN/A\tN/A\n",
        "Mark Howell\tGen. Mang. of Investor Relations\tN/A\tN/A\tN/A\n",
        "Mr. David Brewster\tChief Legal Officer\tN/A\tN/A\tN/A\n",
        "Ms. Lisa Ronson\tChief Marketing Officer\tN/A\tN/A\tN/A\n",
        "Ms. Kris Webb\tChief People Officer\tN/A\tN/A\tN/A\n",
        "Mr. Thinus Keeve\tChief Sustainability, Property & Export Officer\tN/A\tN/A\tN/A\n",
        "\n",
        "```\n",
        "\n",
        "Client clarified we only need Name, Title, Pay\n",
        "\n",
        "Let consider one row, and only name title and pay\n",
        "\n",
        "```\n",
        "Name\t              Title\t          Pay\n",
        "Mr. Steven Cain\tMD, CEO & Director\t3.33M\n",
        "```\n",
        "\n",
        "Note, 1st collum is the name, the second is title and thrid is pay.\n",
        "I need the dollar amount to calculate the tax.\n",
        "So Pay (or Salray) is 3.33M. Need to extract the 3.33 and multiply is by 1000,000 to give me the dollar amount.  Then use this dollar amount to calculate the tax. If the last character is K, we need to multiply by 1,000.\n",
        "\n",
        "**TODO:  Work out how get each colum/cell in the table**\n",
        "\n",
        "### Want to calculate the tax\n",
        "* Need to get the pay\n",
        "\n",
        "*Note: We did a calculate tax in a earlier lab*\n",
        "\n",
        "See: https://github.com/gemma24/my_first_repo/blob/main/tax_calculation.ipynb\n",
        "\n",
        "\n",
        "\n",
        "```\n",
        "def calculate_tax(income):\n",
        "  ''' \n",
        "  This function will calculate the tax payable based on the ATO\n",
        "  '''\n",
        "  if income<=18200:\n",
        "    tax=0\n",
        "  elif 18200<income<=45000:\n",
        "    tax= 0.19 * (income- 18200)\n",
        "  elif 45001< income<= 120000:\n",
        "    tax=5092+0.32*(income-45000)\n",
        "  elif 120001< income < 180000:\n",
        "    tax= 29467+0.37*(income-120000)\n",
        "  elif 180001<= income:\n",
        "    tax= 51667+0.45*(income-180000)\n",
        "  return tax\n",
        "```\n",
        "income_tax=calculate_tax(pay)\n",
        "\n",
        "\n",
        "\n"
      ]
    },
    {
      "cell_type": "code",
      "metadata": {
        "colab": {
          "base_uri": "https://localhost:8080/"
        },
        "id": "LuoQiEzr1hMZ",
        "outputId": "a71b5679-f20b-40d9-a7a7-4dbfc1b9a6d2"
      },
      "source": [
        "3.33 * 1000000"
      ],
      "execution_count": null,
      "outputs": [
        {
          "output_type": "execute_result",
          "data": {
            "text/plain": [
              "3330000.0"
            ]
          },
          "metadata": {},
          "execution_count": 1
        }
      ]
    },
    {
      "cell_type": "markdown",
      "metadata": {
        "id": "lCYwgYIy5NdI"
      },
      "source": [
        "# Step 4: Develop an Algorithm\n",
        "1. Get the ticker symbol from the user\n",
        "2. Use the symbol to goto the propile page\n",
        "3. Get the Table\n",
        "* for each row get the pay\n",
        "* Use pay to calculate tax\n",
        "* Add tax to to table\n",
        "\n",
        "4. Save as Csv\n",
        "5. Save as SQL"
      ]
    },
    {
      "cell_type": "code",
      "metadata": {
        "colab": {
          "base_uri": "https://localhost:8080/"
        },
        "id": "QxxG9ZoLCCTN",
        "outputId": "57993c51-ff23-45e9-f7a4-d4b0faa3faf1"
      },
      "source": [
        "# Usually run of Google Coolab, so install unique packages\n",
        "!pip install kora -q\n",
        "\n",
        "#load packages\n",
        "from bs4 import BeautifulSoup\n",
        "from kora.selenium import wd\n",
        "import pandas as pd"
      ],
      "execution_count": 1,
      "outputs": [
        {
          "output_type": "stream",
          "name": "stdout",
          "text": [
            "\u001b[K     |████████████████████████████████| 57 kB 3.7 MB/s \n",
            "\u001b[K     |████████████████████████████████| 56 kB 4.9 MB/s \n",
            "\u001b[?25h"
          ]
        }
      ]
    },
    {
      "cell_type": "code",
      "metadata": {
        "id": "FKND37reAAD_"
      },
      "source": [
        "#lets create a function that obtain the ticker symbol from user and then return the profile page.\n",
        "def build_url():\n",
        "  ''' This function will build the URL of the profile page'''\n",
        "  ticker = input(\"Please type in a ticker symbol \")\n",
        "  url_pattern = 'https://au.finance.yahoo.com/quote/{}/profile?p={}'\n",
        "  result = url_pattern.format(ticker, ticker)\n",
        "  return result"
      ],
      "execution_count": 2,
      "outputs": []
    },
    {
      "cell_type": "code",
      "metadata": {
        "colab": {
          "base_uri": "https://localhost:8080/"
        },
        "id": "3U0i5_-UAXB8",
        "outputId": "d18c9166-4342-49c6-eaa5-b43d2fe3c2bc"
      },
      "source": [
        "# Lets try if this function is working\n",
        "url = build_url()\n",
        "print(url)"
      ],
      "execution_count": 3,
      "outputs": [
        {
          "output_type": "stream",
          "name": "stdout",
          "text": [
            "Please type in a ticker symbol COL.AX\n",
            "https://au.finance.yahoo.com/quote/COL.AX/profile?p=COL.AX\n"
          ]
        }
      ]
    },
    {
      "cell_type": "code",
      "metadata": {
        "colab": {
          "base_uri": "https://localhost:8080/"
        },
        "id": "V8JOsLU_FsWN",
        "outputId": "e7f0e2aa-b463-4757-a6bb-16acf388cc5d"
      },
      "source": [
        "# Get URL\n",
        "url = build_url()\n",
        "wd.get(url)\n",
        "soup = BeautifulSoup(wd.page_source,\"html.parser\")"
      ],
      "execution_count": 4,
      "outputs": [
        {
          "name": "stdout",
          "output_type": "stream",
          "text": [
            "Please type in a ticker symbol COl.AX\n"
          ]
        }
      ]
    },
    {
      "cell_type": "code",
      "metadata": {
        "id": "7l8kG3KJHwRo"
      },
      "source": [
        "def get_record(row):\n",
        "  cells = row.find_all('td')\n",
        "  name = cells[0].text\n",
        "  title =  cells[1].text\n",
        "  pay = cells[2].text\n",
        "  return {'name': name, 'title': title, 'pay': pay}"
      ],
      "execution_count": 5,
      "outputs": []
    },
    {
      "cell_type": "code",
      "metadata": {
        "id": "QbSNoAhDNlxy"
      },
      "source": [
        "def get_rows(soup):\n",
        "  # Get the table!\n",
        "  table = soup.find('table')\n",
        "\n",
        "  # get to the row\n",
        "  body = table.find('tbody')\n",
        "  rows = body.find_all('tr')\n",
        "  return rows"
      ],
      "execution_count": 6,
      "outputs": []
    },
    {
      "cell_type": "code",
      "metadata": {
        "id": "Iy1Y8qEIN2E4"
      },
      "source": [
        "def calculate_tax(income):\n",
        "  if income <= 18200:\n",
        "    tax_payable = 0\n",
        "  elif 18200 < income <= 45000:\n",
        "    tax_payable = 0.19 * (income - 18200)\n",
        "  elif 45000 < income < 120000:\n",
        "    tax_payable = 5092 + 0.32 * (income - 45000)\n",
        "  elif 120001 < income < 180000:\n",
        "    tax_payable = 29467 + 0.37 * (income - 120000)\n",
        "  elif income > 180000:\n",
        "    tax_payable = 51667 + 0.45 * (income - 180000)\n",
        "\n",
        "\n",
        "  return tax_payable"
      ],
      "execution_count": 7,
      "outputs": []
    },
    {
      "cell_type": "code",
      "metadata": {
        "id": "nd3HIUZ1N60q"
      },
      "source": [
        "def get_salary(pay):  \n",
        "  last_char = pay[-1]\n",
        "  if last_char == 'M':\n",
        "    pay_as_num = float(pay[0:-1])\n",
        "    sal = pay_as_num * 1000000\n",
        "  elif last_char == 'k':\n",
        "    pay_as_num = float(pay[0:-1])\n",
        "    sal = pay_as_num * 1000\n",
        "  else: # Must be a N/A\n",
        "    sal = 0\n",
        "  return sal"
      ],
      "execution_count": 8,
      "outputs": []
    },
    {
      "cell_type": "code",
      "metadata": {
        "colab": {
          "base_uri": "https://localhost:8080/",
          "height": 374
        },
        "id": "OJEb7-gwODlf",
        "outputId": "9b1906fa-733f-4c2d-f5de-e11220786032"
      },
      "source": [
        "url = build_url()\n",
        "wd.get(url)\n",
        "soup = BeautifulSoup(wd.page_source,'html.parser')\n",
        "rows = get_rows(soup)\n",
        "\n",
        "# getting all the records\n",
        "records = []\n",
        "for row in rows:\n",
        "  rec = get_record(row)\n",
        "  records.append(rec)\n",
        "\n",
        "# adding the tax colum\n",
        "for rec in records:\n",
        "  sal = get_salary(rec['pay'])\n",
        "  rec['tax'] = calculate_tax(sal)\n",
        "\n",
        "exec_df = pd.DataFrame.from_records(records)\n",
        "exec_df"
      ],
      "execution_count": 9,
      "outputs": [
        {
          "name": "stdout",
          "output_type": "stream",
          "text": [
            "Please type in a ticker symbol COL.AX\n"
          ]
        },
        {
          "output_type": "execute_result",
          "data": {
            "text/html": [
              "<div>\n",
              "<style scoped>\n",
              "    .dataframe tbody tr th:only-of-type {\n",
              "        vertical-align: middle;\n",
              "    }\n",
              "\n",
              "    .dataframe tbody tr th {\n",
              "        vertical-align: top;\n",
              "    }\n",
              "\n",
              "    .dataframe thead th {\n",
              "        text-align: right;\n",
              "    }\n",
              "</style>\n",
              "<table border=\"1\" class=\"dataframe\">\n",
              "  <thead>\n",
              "    <tr style=\"text-align: right;\">\n",
              "      <th></th>\n",
              "      <th>name</th>\n",
              "      <th>title</th>\n",
              "      <th>pay</th>\n",
              "      <th>tax</th>\n",
              "    </tr>\n",
              "  </thead>\n",
              "  <tbody>\n",
              "    <tr>\n",
              "      <th>0</th>\n",
              "      <td>Mr. Steven  Cain</td>\n",
              "      <td>MD, CEO &amp; Director</td>\n",
              "      <td>3.33M</td>\n",
              "      <td>1469167.0</td>\n",
              "    </tr>\n",
              "    <tr>\n",
              "      <th>1</th>\n",
              "      <td>Ms. Leah  Weckert</td>\n",
              "      <td>Chief Financial Officer</td>\n",
              "      <td>1.8M</td>\n",
              "      <td>780667.0</td>\n",
              "    </tr>\n",
              "    <tr>\n",
              "      <th>2</th>\n",
              "      <td>Mr. Matthew  Swindells</td>\n",
              "      <td>Chief Operations Officer</td>\n",
              "      <td>1.58M</td>\n",
              "      <td>681667.0</td>\n",
              "    </tr>\n",
              "    <tr>\n",
              "      <th>3</th>\n",
              "      <td>Mr. Greg  Davis</td>\n",
              "      <td>Chief Exec. - Commercial &amp; Express</td>\n",
              "      <td>1.61M</td>\n",
              "      <td>695167.0</td>\n",
              "    </tr>\n",
              "    <tr>\n",
              "      <th>4</th>\n",
              "      <td>Mr. John  Cox</td>\n",
              "      <td>Chief Technology Officer</td>\n",
              "      <td>N/A</td>\n",
              "      <td>0.0</td>\n",
              "    </tr>\n",
              "    <tr>\n",
              "      <th>5</th>\n",
              "      <td>Mark  Howell</td>\n",
              "      <td>Gen. Mang. of Investor Relations</td>\n",
              "      <td>N/A</td>\n",
              "      <td>0.0</td>\n",
              "    </tr>\n",
              "    <tr>\n",
              "      <th>6</th>\n",
              "      <td>Mr. David  Brewster</td>\n",
              "      <td>Chief Legal Officer</td>\n",
              "      <td>N/A</td>\n",
              "      <td>0.0</td>\n",
              "    </tr>\n",
              "    <tr>\n",
              "      <th>7</th>\n",
              "      <td>Ms. Lisa  Ronson</td>\n",
              "      <td>Chief Marketing Officer</td>\n",
              "      <td>N/A</td>\n",
              "      <td>0.0</td>\n",
              "    </tr>\n",
              "    <tr>\n",
              "      <th>8</th>\n",
              "      <td>Ms. Kris  Webb</td>\n",
              "      <td>Chief People Officer</td>\n",
              "      <td>N/A</td>\n",
              "      <td>0.0</td>\n",
              "    </tr>\n",
              "    <tr>\n",
              "      <th>9</th>\n",
              "      <td>Mr. Thinus  Keeve</td>\n",
              "      <td>Chief Sustainability, Property &amp; Export Officer</td>\n",
              "      <td>N/A</td>\n",
              "      <td>0.0</td>\n",
              "    </tr>\n",
              "  </tbody>\n",
              "</table>\n",
              "</div>"
            ],
            "text/plain": [
              "                     name  ...        tax\n",
              "0        Mr. Steven  Cain  ...  1469167.0\n",
              "1       Ms. Leah  Weckert  ...   780667.0\n",
              "2  Mr. Matthew  Swindells  ...   681667.0\n",
              "3         Mr. Greg  Davis  ...   695167.0\n",
              "4           Mr. John  Cox  ...        0.0\n",
              "5            Mark  Howell  ...        0.0\n",
              "6     Mr. David  Brewster  ...        0.0\n",
              "7        Ms. Lisa  Ronson  ...        0.0\n",
              "8          Ms. Kris  Webb  ...        0.0\n",
              "9       Mr. Thinus  Keeve  ...        0.0\n",
              "\n",
              "[10 rows x 4 columns]"
            ]
          },
          "metadata": {},
          "execution_count": 9
        }
      ]
    },
    {
      "cell_type": "markdown",
      "metadata": {
        "id": "ZXmTKFo71aF1"
      },
      "source": [
        "# Save as CSV\n",
        "Previously, we installed the panda package to create dataframe in Python. Pandas is a Python open-source package that enables users to perform efficient data analysis, data cleansing, and data preparation. Pandas is fast, and it provides users with a high level of performance and productivity. Most of datasets are called DataFrames. Dataframes is a two-dimensional labelled data structure having indexes for the rows and columns, where each cell can store a value of any type.\n",
        "So, how we save a Pandas DataFrame as a CSV file using to_csv() method?\n",
        "1. importing pandas as pd\n",
        "\n",
        " Example: import pandas as pd\n",
        "\n",
        "2. create a list \n",
        "\n",
        " Example : \n",
        " \n",
        " nme = [\"aparna\", \"pankaj\", \"sudhir\", \"Geeku\"]\n",
        " \n",
        " deg = [\"MBA\", \"BCA\", \"M.Tech\", \"MBA\"]\n",
        " \n",
        " scr = [90, 40, 80, 98] \n",
        "   \n",
        "3. create a dictionary of lists \n",
        " \n",
        " Example :\n",
        " \n",
        " dict = {'name': nme, 'degree': deg, 'score': scr} \n",
        " \n",
        " df = pd.DataFrame(dict)\n",
        "\n",
        "4. saving the dataframe\n",
        "\n",
        " df.to_csv('file1.csv') We can name our file intstead of file1.\n",
        " \n",
        " Source: https://www.geeksforgeeks.org/saving-a-pandas-dataframe-as-a-csv/\n"
      ]
    },
    {
      "cell_type": "code",
      "metadata": {
        "id": "kmwcu-F2OEg-"
      },
      "source": [
        "exec_df.to_csv('Records.csv')"
      ],
      "execution_count": 13,
      "outputs": []
    },
    {
      "cell_type": "markdown",
      "metadata": {
        "id": "XoRCfiWPHXtl"
      },
      "source": [
        "# Save as Sqlite"
      ]
    },
    {
      "cell_type": "code",
      "metadata": {
        "id": "AL9Gc8wIEn_h"
      },
      "source": [
        ""
      ],
      "execution_count": null,
      "outputs": []
    }
  ]
}